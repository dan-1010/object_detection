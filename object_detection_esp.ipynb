{
 "cells": [
  {
   "cell_type": "code",
   "execution_count": 2,
   "id": "1c86cfbd",
   "metadata": {},
   "outputs": [],
   "source": [
    "import cv2\n",
    "\n",
    "# Replace with your stream URL\n",
    "stream_url = \"http://192.168.1.24:81/stream\"\n",
    "\n"
   ]
  },
  {
   "cell_type": "code",
   "execution_count": 3,
   "id": "18ab036e",
   "metadata": {},
   "outputs": [
    {
     "name": "stdout",
     "output_type": "stream",
     "text": [
      "Connected successfully. Press 'q' to quit.\n"
     ]
    }
   ],
   "source": [
    "cap = cv2.VideoCapture(stream_url)\n",
    "if not cap.isOpened():\n",
    "    print(\"Failed to connect to ESP32-CAM stream\")\n",
    "else:\n",
    "    print(\"Connected successfully. Press 'q' to quit.\")\n",
    "    while True:\n",
    "        ret, frame = cap.read()\n",
    "        if not ret:\n",
    "            print(\"Failed to grab frame\")\n",
    "            break\n",
    "\n",
    "        cv2.imshow(\"ESP32-CAM Stream\", frame)\n",
    "\n",
    "        if cv2.waitKey(1) & 0xFF == ord('q'):\n",
    "            break\n",
    "\n",
    "cap.release()\n",
    "cv2.destroyAllWindows()"
   ]
  },
  {
   "cell_type": "code",
   "execution_count": 11,
   "id": "9c603ade",
   "metadata": {},
   "outputs": [
    {
     "name": "stdout",
     "output_type": "stream",
     "text": [
      "Connected successfully. Press 'q' to quit.\n"
     ]
    }
   ],
   "source": [
    "import cv2\n",
    "from ultralytics import YOLO\n",
    "\n",
    "# Replace with your stream URL\n",
    "stream_url = \"http://192.168.1.24:81/stream\"\n",
    "\n",
    "# Load YOLO model (this will automatically download the model if not found)\n",
    "# model = YOLO('yolov8n.pt')  # Using nano version for best speed\n",
    "# Alternative models for different speed/accuracy tradeoffs:\n",
    "# model = YOLO('yolov8s.pt')  # Small\n",
    "model = YOLO('yolov8m.pt')  # Medium\n",
    "# model = YOLO('yolov8l.pt')  # Large\n",
    "# model = YOLO('yolov8x.pt')  # Extra large\n",
    "\n",
    "# Initialize video capture\n",
    "cap = cv2.VideoCapture(stream_url)\n",
    "\n",
    "if not cap.isOpened():\n",
    "    print(\"Failed to connect to ESP32-CAM stream\")\n",
    "else:\n",
    "    print(\"Connected successfully. Press 'q' to quit.\")\n",
    "    \n",
    "    while True:\n",
    "        ret, frame = cap.read()\n",
    "        if not ret:\n",
    "            print(\"Failed to grab frame\")\n",
    "            break\n",
    "\n",
    "        # Perform object detection\n",
    "        results = model(frame, verbose=False)  # Set verbose=False to avoid cluttering output\n",
    "        \n",
    "        # Visualize results\n",
    "        annotated_frame = results[0].plot()  # Automatically draws bounding boxes\n",
    "        \n",
    "        # Display the annotated frame\n",
    "        cv2.imshow(\"ESP32-CAM Stream with YOLO\", annotated_frame)\n",
    "\n",
    "        if cv2.waitKey(1) & 0xFF == ord('q'):\n",
    "            break\n",
    "\n",
    "cap.release()\n",
    "cv2.destroyAllWindows()"
   ]
  },
  {
   "cell_type": "code",
   "execution_count": null,
   "id": "7cc97139",
   "metadata": {},
   "outputs": [],
   "source": []
  }
 ],
 "metadata": {
  "kernelspec": {
   "display_name": "recommend",
   "language": "python",
   "name": "recommend"
  },
  "language_info": {
   "codemirror_mode": {
    "name": "ipython",
    "version": 3
   },
   "file_extension": ".py",
   "mimetype": "text/x-python",
   "name": "python",
   "nbconvert_exporter": "python",
   "pygments_lexer": "ipython3",
   "version": "3.11.1"
  }
 },
 "nbformat": 4,
 "nbformat_minor": 5
}
